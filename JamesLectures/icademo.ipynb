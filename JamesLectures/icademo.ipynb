{
 "cells": [
  {
   "cell_type": "markdown",
   "id": "74abaade-382c-4fb7-9a38-cdf90df1310c",
   "metadata": {},
   "source": [
    "First we import what we need and read in the 3 512X512 grey scale image files, \n",
    "and have a look at the images"
   ]
  },
  {
   "cell_type": "code",
   "execution_count": null,
   "id": "3c8c65c0-eb2d-4061-9d11-a991a38a12fa",
   "metadata": {},
   "outputs": [],
   "source": [
    "import matplotlib.pyplot as plt\n",
    "import numpy as np\n",
    "people = np.loadtxt(\"people.dat\")\n",
    "bridge = np.loadtxt(\"bridge.dat\")\n",
    "boat = np.loadtxt(\"boat.dat\")\n",
    "for image in people, bridge, boat:\n",
    "    plt.imshow(image,cmap=plt.cm.gray)\n",
    "    plt.show()"
   ]
  },
  {
   "cell_type": "markdown",
   "id": "f0fb9d0e-b545-4a06-be8c-8cad3f63b783",
   "metadata": {},
   "source": [
    "Now let's choose a mixing matrix to get 3 mixed images"
   ]
  },
  {
   "cell_type": "code",
   "execution_count": null,
   "id": "aa94b69f-6fd6-4cf7-aa48-1c926100ddd3",
   "metadata": {},
   "outputs": [],
   "source": [
    "W = np.array([[0.4,0.3,0.3],[0.3,0.3,0.4],[0.2,0.6,0.2]])"
   ]
  },
  {
   "cell_type": "markdown",
   "id": "37fa3b57-5ac5-48b4-87af-fd7653e15135",
   "metadata": {},
   "source": [
    "Now let's create some mixed images using W and have a look at them"
   ]
  },
  {
   "cell_type": "code",
   "execution_count": null,
   "id": "df927070-709c-4165-abea-e44622006515",
   "metadata": {},
   "outputs": [],
   "source": [
    "Z = np.vstack((people.flatten(),bridge.flatten(),boat.flatten()))\n",
    "X = np.matmul(W,Z)\n",
    "for i in range(3):\n",
    "    plt.imshow(X[i,:].reshape((512,512)),cmap=plt.cm.gray)\n",
    "    plt.show()"
   ]
  },
  {
   "cell_type": "markdown",
   "id": "01323ed9-7b50-44c4-bcc4-78a7b6912820",
   "metadata": {},
   "source": [
    "Now let's use ICA to unmix the images and see how it does"
   ]
  },
  {
   "cell_type": "code",
   "execution_count": null,
   "id": "96b2e500-870a-4f08-9b7a-4e7a5b5be486",
   "metadata": {},
   "outputs": [],
   "source": [
    "np.random.seed(5)\n",
    "from sklearn.decomposition import FastICA\n",
    "ica = FastICA(n_components=3)\n",
    "img_ica= ica.fit_transform(X.T).T\n",
    "for i in range(3):\n",
    "    plt.imshow(img_ica[i,:].reshape((512,512)),cmap=plt.cm.gray)\n",
    "    plt.show()"
   ]
  },
  {
   "cell_type": "markdown",
   "id": "96965f3a-234d-432f-8580-3b50448cba45",
   "metadata": {},
   "source": [
    "ICA assumes that the sources are independent, what happens if they are not?"
   ]
  },
  {
   "cell_type": "code",
   "execution_count": null,
   "id": "3d8d80a3-d605-4700-8c68-b3c3f8b1b2f3",
   "metadata": {},
   "outputs": [],
   "source": [
    "Z2 = np.vstack((people.flatten(),boat.flatten(),people.flatten()))\n",
    "X2 = np.matmul(W,Z2)\n",
    "for i in range(3):\n",
    "    plt.imshow(X2[i,:].reshape((512,512)),cmap=plt.cm.gray)\n",
    "    plt.show()"
   ]
  },
  {
   "cell_type": "code",
   "execution_count": null,
   "id": "ef685d04-b11d-4bc0-9302-7b9cdd373320",
   "metadata": {},
   "outputs": [],
   "source": [
    "np.random.seed(1)\n",
    "ica = FastICA(n_components=3)\n",
    "img_ica= ica.fit_transform(X2.T).T\n",
    "for i in range(3):\n",
    "    plt.imshow(img_ica[i,:].reshape((512,512)),cmap=plt.cm.gray)\n",
    "    plt.show()"
   ]
  },
  {
   "cell_type": "markdown",
   "id": "542cc02d-d8d2-4676-897a-024f5d851ab5",
   "metadata": {},
   "source": [
    "The results aren't bad but are noticeably worse than before and FastICA (which is an iterative algorithm) did not converge."
   ]
  }
 ],
 "metadata": {
  "kernelspec": {
   "display_name": "Python 3 (ipykernel)",
   "language": "python",
   "name": "python3"
  },
  "language_info": {
   "codemirror_mode": {
    "name": "ipython",
    "version": 3
   },
   "file_extension": ".py",
   "mimetype": "text/x-python",
   "name": "python",
   "nbconvert_exporter": "python",
   "pygments_lexer": "ipython3",
   "version": "3.8.10"
  }
 },
 "nbformat": 4,
 "nbformat_minor": 5
}
